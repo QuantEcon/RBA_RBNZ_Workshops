{
 "cells": [
  {
   "cell_type": "markdown",
   "metadata": {
    "slideshow": {
     "slide_type": "slide"
    }
   },
   "source": [
    "# DSGE and State-Space Modeling with Julia\n",
    "*2017 Reserve Bank Workshops*\n",
    "\n",
    "** *Erica Moszkowski* ** *(@emoszkowski)*, <br/>\n",
    "***Federal Reserve Bank of New York*** *(@FRBNY-DSGE)*\n",
    "\n",
    "*3/10/2017 - 3/13/2017*"
   ]
  },
  {
   "cell_type": "markdown",
   "metadata": {
    "slideshow": {
     "slide_type": "slide"
    }
   },
   "source": [
    "## Disclaimer\n",
    "\n",
    "This talk reflects the experience of the speaker with Julia and MATLAB and does\n",
    "not represent an endorsement by the Federal Reserve Bank of New York or the\n",
    "Federal Reserve System of any particular product or service. The views\n",
    "expressed in this talk are those of the speaker and do not necessarily reflect\n",
    "the position of the Federal Reserve Bank of New York or the Federal Reserve System."
   ]
  },
  {
   "cell_type": "markdown",
   "metadata": {
    "slideshow": {
     "slide_type": "slide"
    }
   },
   "source": [
    "## Outline\n",
    "\n",
    "- Quick review of DSGEs\n",
    "- DSGE.jl: from MATLAB to Julia\n",
    "  - How?\n",
    "  - Why? \n",
    "- Code design approaches in DSGE.jl\n",
    "- More useful tools you can use: StateSpaceRoutines.jl\n",
    "- Exercise"
   ]
  },
  {
   "cell_type": "markdown",
   "metadata": {
    "slideshow": {
     "slide_type": "subslide"
    }
   },
   "source": [
    "## Collaborators\n",
    "\n",
    "- FRBNY-DSGE team: \n",
    "  - Marco Del Negro, Marc Giannoni, Abhi Gupta, Pearl Li, Sara Shahanaghi, Micah Smith\n",
    "- QuantEcon collaborators:\n",
    "  - Zac Cranko, Spencer Lyon, John Stachurski, Pablo Winant"
   ]
  },
  {
   "cell_type": "markdown",
   "metadata": {
    "slideshow": {
     "slide_type": "slide"
    }
   },
   "source": [
    "## The DSGE model \n",
    "\n",
    "A DSGE model is a system of dynamic equations: \n",
    "\n",
    "<center>$ \\Gamma_0(\\theta) s_{t} = \\Gamma_1(\\theta) s_{t-1} + \\Gamma_C(\\theta) + \\Psi(\\theta) \\epsilon_{t} + \\Pi(\\theta) \\eta_{t} $ &emsp; $\\epsilon_t \\sim N(0,Q(\\theta))$</center> \n",
    "\n",
    "where\n",
    "- $s_t$ is a vector of states at time $t$ (capital, inflation, ...)\n",
    "  - includes forecasts of future states\n",
    "- $\\epsilon_t$ is a vector of shocks (productivity, financial,...)\n",
    "- $\\eta_t$ is a vector of forecast errors (under rational expectations in the current version of the FRBNY DSGE model)\n",
    "- $\\theta$ is a vector of parameters describing preferences and technology (depreciation rate, ...)"
   ]
  },
  {
   "cell_type": "markdown",
   "metadata": {
    "slideshow": {
     "slide_type": "subslide"
    }
   },
   "source": [
    "## The DSGE model (ctd) \n",
    "\n",
    "The model solution (given by `gensys`) is the *transition equation*:\n",
    "\n",
    "<center>$ s_{t}  = T(\\theta) s_{t-1} + R(\\theta) \\epsilon_{t} + C(\\theta) $ &emsp; &emsp; &emsp; (1)</center> \n",
    "\n",
    "The *measurement equation* maps states to observed data ($y_t$): \n",
    "\n",
    "<center>$ y_{t}  = Z(\\theta) s_{t} + D(\\theta)$ &emsp; &emsp; &emsp; &emsp; &emsp; &emsp; &emsp; (2) </center>\n",
    "\n",
    "Equations (1) and (2) form a state-space system."
   ]
  },
  {
   "cell_type": "markdown",
   "metadata": {
    "slideshow": {
     "slide_type": "fragment"
    }
   },
   "source": [
    "**A DSGE model is a *mapping* between $\\theta$ and $\\Gamma_0, \\Gamma_1, \\Gamma_C, \\Psi, \\Pi$ (which map to $T, R, C$), $Q, Z$, and $D$.**"
   ]
  },
  {
   "cell_type": "markdown",
   "metadata": {
    "slideshow": {
     "slide_type": "fragment"
    }
   },
   "source": [
    "- This mapping is needed to compute the likelihood $p(y|\\theta$) from the state-space model. \n",
    "  - The likelihood is the probability of observing the data given a set of parameters.\n",
    "  - *Preview*: `DSGE.jl` centers around a \"model object\" that stores this mapping. "
   ]
  },
  {
   "cell_type": "markdown",
   "metadata": {
    "slideshow": {
     "slide_type": "fragment"
    }
   },
   "source": [
    "- We adopt a Bayesian approach: $\\theta$ is a random variable, and we impose a prior $p(\\theta)$ on it.\n",
    "   - The `DSGE.jl` model object also includes information on this prior."
   ]
  },
  {
   "cell_type": "markdown",
   "metadata": {
    "slideshow": {
     "slide_type": "fragment"
    }
   },
   "source": [
    "- Once we know $\\theta$, we know everything -> $\\theta$ is the key variable of interest"
   ]
  },
  {
   "cell_type": "markdown",
   "metadata": {
    "collapsed": true,
    "slideshow": {
     "slide_type": "subslide"
    }
   },
   "source": [
    "## Estimating the parameter values"
   ]
  },
  {
   "cell_type": "markdown",
   "metadata": {
    "slideshow": {
     "slide_type": "fragment"
    }
   },
   "source": [
    "- Goal: conduct inference about $\\theta$ and $s_t$  (obtain draws from the posterior distribution $p(\\theta|y) \\propto p(y|\\theta)p(\\theta))$"
   ]
  },
  {
   "cell_type": "markdown",
   "metadata": {
    "slideshow": {
     "slide_type": "fragment"
    }
   },
   "source": [
    "- How? Sample from posterior distribution using `metropolis_hastings` MCMC method.\n",
    "  - This is the most computationally expensive part of estimation (takes ~10 hrs)"
   ]
  },
  {
   "cell_type": "code",
   "execution_count": null,
   "metadata": {
    "collapsed": false,
    "slideshow": {
     "slide_type": "fragment"
    }
   },
   "outputs": [],
   "source": [
    "for i = 1:120000   # metropolis_hastings *very* computationally intensive\n",
    "\n",
    "    draw θ_i\n",
    "    solve(model, θ_i)                       # `gensys`\n",
    "    loglike = likelihood(model, data, θ_i)  # `kalman_filter` => p(data | θ_i)\n",
    "    logpost = loglike + logprior(θ_i)       # compute p(θ_i | data)\n",
    "    \n",
    "end"
   ]
  },
  {
   "cell_type": "markdown",
   "metadata": {
    "slideshow": {
     "slide_type": "subslide"
    }
   },
   "source": [
    "## Forecasting states and observables \n",
    "\n",
    "Iterate state-space system forward from $T$ (end of sample) to forecast future values of states and observables:\n",
    "\n",
    "$$ s_{T+1}  = T(\\theta) s_{T} + R(\\theta) \\epsilon_{T+1} + C(\\theta) $$\n",
    "$$ y_{T+1}  = Z(\\theta) s_{T+1} + D(\\theta) $$ <br>\n",
    "\n",
    "We can do this for $1,2,\\dots,h$ periods ahead, iterating forward one period at a time."
   ]
  },
  {
   "cell_type": "markdown",
   "metadata": {
    "slideshow": {
     "slide_type": "slide"
    }
   },
   "source": [
    "## `DSGE.jl`\n",
    "\n",
    "- Julia package that facilitates the solution and Bayesian estimation of DSGE models\n",
    "<br>\n",
    "- Users specify their own models and apply our implementation of workhorse procedures\n",
    "<br>\n",
    "- Main sections:\n",
    "    1. Prepare data \n",
    "      - Integrates with FredData.jl to pull from Federal Reserve Economic Data (FRED)\n",
    "    2. Solve model and estimate time-invariant parameters \n",
    "    3. Forecast macro variables (e.g. GDP growth, inflation) \n",
    "    4. Plot (not yet released)\n",
    "    5. ..."
   ]
  },
  {
   "cell_type": "markdown",
   "metadata": {
    "slideshow": {
     "slide_type": "subslide"
    }
   },
   "source": [
    "## `using DSGE`"
   ]
  },
  {
   "cell_type": "code",
   "execution_count": null,
   "metadata": {
    "collapsed": true,
    "slideshow": {
     "slide_type": "fragment"
    }
   },
   "outputs": [],
   "source": [
    "using DSGE\n",
    "\n",
    "# construct a model object\n",
    "m = Model990()\n",
    "\n",
    "# estimate as of 2015-Q3 using the default data vintage from 2015 Nov 27\n",
    "m <= Setting(:data_vintage, \"151127\")\n",
    "m <= Setting(:date_mainsample_end, quartertodate(\"2015-Q3\"))\n",
    "\n",
    "# loads data from FRED and user-supplied CSV files\n",
    "df = load_data(m)   \n",
    "\n",
    "# reoptimize parameter vector, compute Hessian at mode, and full posterior\n",
    "# parameter sampling\n",
    "estimate(m, df)\n",
    "\n",
    "# produce LaTeX tables of parameter moments\n",
    "compute_moments(m)"
   ]
  },
  {
   "cell_type": "markdown",
   "metadata": {
    "slideshow": {
     "slide_type": "slide"
    }
   },
   "source": [
    "## From MATLAB to Julia: The Story"
   ]
  },
  {
   "cell_type": "markdown",
   "metadata": {
    "slideshow": {
     "slide_type": "fragment"
    }
   },
   "source": [
    "**~10 years ago** &emsp;  &emsp;  DSGE team begins! \n",
    "\n",
    "**September 2014** &emsp;   MATLAB codebase made public (in .zip) on *Liberty Street Economics* \n",
    "\n",
    "**Spring 2015** &emsp; &emsp; &emsp;  QuantEcon approaches DSGE team  \n",
    "\n",
    "<ul style=\"margin-top:0px;\"><li>For QuantEcon</li>\n",
    "  <ul><li>Add production DSGE model from central bank to collection of high-quality open-source code for economics</li></ul></ul>\n",
    "  \n",
    "<ul style=\"margin-top:0px;\"><li>For DSGE team</li>\n",
    "  <ul><li>Improve performance sufficiently to experiment with new techniques (e.g. nonlinear models)</li>\n",
    "  <li>Redesign codebase from bottom up</li>\n",
    "  <li>Make code free!</li></ul></ul>\n",
    "  \n",
    "**December 2015** &emsp;   Release of DSGE.jl (estimation step)\n",
    "\n",
    "**June 22, 2016** &emsp; &emsp; Release of data step (v0.1.3) \n",
    "\n",
    "**March/April, 2017** &emsp; Release of forecast step (v0.2.0) <br>\n",
    "        &emsp; &emsp; &emsp; Release of StateSpaceRoutines.jl <br>\n",
    "        &emsp; &emsp; &emsp; Release of BVARs.jl "
   ]
  },
  {
   "cell_type": "markdown",
   "metadata": {
    "slideshow": {
     "slide_type": "slide"
    }
   },
   "source": [
    "## Why Julia?  "
   ]
  },
  {
   "cell_type": "markdown",
   "metadata": {
    "slideshow": {
     "slide_type": "fragment"
    }
   },
   "source": [
    "**Initial reasoning**\n",
    "  - A bit of a push from John and QuantEcon (thank you!)\n",
    "  - Some Julia features make it easier for MATLAB users to pick up (1-indexing, for example)"
   ]
  },
  {
   "cell_type": "markdown",
   "metadata": {
    "slideshow": {
     "slide_type": "fragment"
    }
   },
   "source": [
    "**With some reflection**\n",
    "\n",
    "A number of Julia <font color=\"blue\">features</font> lend themselves to DSGE.jl <font color=\"green\">implementation</font>\n",
    "\n",
    "  - Central <font color=\"blue\">type system</font> provides a natural way to <font color=\"green\">organize</font> and <font color=\"green\">simplify</font> codebase\n",
    "  - <font color=\"blue\">Method dispatch</font> allows us to write more <font color=\"green\">general</font> code\n",
    "  - Rely on the <font color=\"blue\">compiler</font> to boost <font color=\"green\">performance</font>"
   ]
  },
  {
   "cell_type": "markdown",
   "metadata": {
    "slideshow": {
     "slide_type": "fragment"
    }
   },
   "source": [
    "**Challenges to be aware of**\n",
    "\n",
    "- New language: frequent updates. This will slow down when v1.0 comes out (hopefully this year)\n",
    "\n",
    "- Sparse StackOverflow activity"
   ]
  },
  {
   "cell_type": "markdown",
   "metadata": {
    "slideshow": {
     "slide_type": "fragment"
    }
   },
   "source": [
    "*Keep in mind:* DSGE.jl is not a direct port! Even so...some motivating stats:"
   ]
  },
  {
   "cell_type": "markdown",
   "metadata": {
    "slideshow": {
     "slide_type": "slide"
    }
   },
   "source": [
    "## Types + dispatch = simpler code\n",
    "\n",
    "<br>\n",
    "\n",
    "| Language             | Lines of code (hundreds) |\n",
    "| -------------------- | :----------------------: |\n",
    "| Matlab               | 63                       |\n",
    "| Julia                | 37                       |\n",
    "\n",
    "<center> Lines of code used in estimation step. *(Including redesign)* "
   ]
  },
  {
   "cell_type": "markdown",
   "metadata": {
    "slideshow": {
     "slide_type": "subslide"
    }
   },
   "source": [
    "## <font color=\"green\">Performance</font> improvements\n",
    "\n",
    "No substantial redesign:\n",
    "\n",
    "| Test                  | MATLAB (14a) | Julia (0.4.0)  |\n",
    "| --------------------  | :----------: | :------------: |\n",
    "| `gensys`              | 1.00         | 5.88           |\n",
    "| `solve`               | 1.00         | 11.11          |\n",
    "| `kalman_filter`       | 1.00         | 1.33           |\n",
    "| `posterior`           | 1.00         | 3.85           |\n",
    "| `csminwel`            | 1.00         | 3.03           |\n",
    "| `hessian`             | 1.00         | 4.35           |\n",
    "\n",
    "\n",
    "Substantial redesign:\n",
    "\n",
    "| Test                  | MATLAB (14a) | Julia (0.4.0)  |\n",
    "| --------------------  | :----------: | :------------: |\n",
    "| `metropolis_hastings` | 1.00         | 9.09           |\n",
    "\n",
    "<center>Benchmark speedup relative to MATLAB (larger is better) </center>\n",
    "\n",
    "<center>*On an Intel® Xeon® E5-2697 v2 2.70GHz CPU running GNU/Linux*</center>"
   ]
  },
  {
   "cell_type": "markdown",
   "metadata": {
    "slideshow": {
     "slide_type": "slide"
    }
   },
   "source": [
    "## DSGE.jl design: types all the way down\n",
    "\n",
    "- In Julia, it's *natural* to take a type-oriented approach to an economic model \n",
    "\n",
    "\n",
    "- Types allow for intuitive expression of economic objects (e.g. models, parameters)\n",
    "   - Encapsulate all features of that object in a single data structure\n",
    "   - Seamless dispatch to support economic intuition\n",
    "   \n",
    "   \n",
    "  \n",
    "- Applications in `DSGE.jl`: \n",
    "   - `AbstractModel`\n",
    "   - `Parameters`\n",
    "   - `Settings`"
   ]
  },
  {
   "cell_type": "code",
   "execution_count": 3,
   "metadata": {
    "collapsed": false,
    "slideshow": {
     "slide_type": "skip"
    }
   },
   "outputs": [
    {
     "name": "stderr",
     "output_type": "stream",
     "text": [
      "INFO: Recompiling stale cache file /Users/ericamoszkowski/.julia/lib/v0.4/HDF5.ji for module HDF5.\n",
      "INFO: Recompiling stale cache file /Users/ericamoszkowski/.julia/lib/v0.4/Blosc.ji for module Blosc.\n",
      "INFO: Recompiling stale cache file /Users/ericamoszkowski/.julia/lib/v0.4/DSGE.ji for module DSGE.\n",
      "INFO: Recompiling stale cache file /Users/ericamoszkowski/.julia/lib/v0.4/Roots.ji for module Roots.\n",
      "INFO: Recompiling stale cache file /Users/ericamoszkowski/.julia/lib/v0.4/Polynomials.ji for module Polynomials.\n",
      "INFO: Recompiling stale cache file /Users/ericamoszkowski/.julia/lib/v0.4/ForwardDiff.ji for module ForwardDiff.\n",
      "INFO: Recompiling stale cache file /Users/ericamoszkowski/.julia/lib/v0.4/QuantEcon.ji for module QuantEcon.\n",
      "INFO: Recompiling stale cache file /Users/ericamoszkowski/.julia/lib/v0.4/DSP.ji for module DSP.\n",
      "INFO: Recompiling stale cache file /Users/ericamoszkowski/.julia/lib/v0.4/LightGraphs.ji for module LightGraphs.\n",
      "INFO: Recompiling stale cache file /Users/ericamoszkowski/.julia/lib/v0.4/LightXML.ji for module LightXML.\n",
      "INFO: Recompiling stale cache file /Users/ericamoszkowski/.julia/lib/v0.4/ParserCombinator.ji for module ParserCombinator.\n",
      "INFO: Recompiling stale cache file /Users/ericamoszkowski/.julia/lib/v0.4/Clustering.ji for module Clustering.\n",
      "INFO: Recompiling stale cache file /Users/ericamoszkowski/.julia/lib/v0.4/JLD.ji for module JLD.\n"
     ]
    }
   ],
   "source": [
    "using DSGE, Distributions"
   ]
  },
  {
   "cell_type": "markdown",
   "metadata": {
    "slideshow": {
     "slide_type": "subslide"
    }
   },
   "source": [
    "## Case study #1: `Parameter` types\n",
    "\n",
    "Recall that DSGE parameters (θ) aren't just values. They have a number of features:"
   ]
  },
  {
   "cell_type": "code",
   "execution_count": 4,
   "metadata": {
    "collapsed": false,
    "slideshow": {
     "slide_type": "fragment"
    }
   },
   "outputs": [
    {
     "data": {
      "text/plain": [
       "Parameter{Float64}(:α,0.1596,(1.0e-5,0.999),Distributions.Normal{Float64}(μ=0.3, σ=0.05),false,\"α: Capital share\",\"\\\\alpha\")"
      ]
     },
     "execution_count": 4,
     "metadata": {},
     "output_type": "execute_result"
    }
   ],
   "source": [
    "type Parameter{T<:Number}\n",
    "    key::Symbol\n",
    "    value::T                        # parameter value \n",
    "    valuebounds::Tuple{T,T}         # bounds of parameter value\n",
    "    prior::Distribution             # prior distribution\n",
    "    fixed::Bool                     # is this parameter fixed at some value?\n",
    "    description::AbstractString\n",
    "    tex_label::AbstractString       # LaTeX label for printing\n",
    "end\n",
    "\n",
    "α = Parameter(:α, 0.1596, (1e-5, 0.999), Normal(0.30, 0.05),  \n",
    "              false, \"α: Capital share\", \"\\\\alpha\")"
   ]
  },
  {
   "cell_type": "markdown",
   "metadata": {
    "slideshow": {
     "slide_type": "subslide"
    }
   },
   "source": [
    "## Case study #1 (ctd):  multiple dispatch supports economic intuition\n",
    "\n",
    "We should be able to have α + 1: "
   ]
  },
  {
   "cell_type": "code",
   "execution_count": 5,
   "metadata": {
    "collapsed": false,
    "slideshow": {
     "slide_type": "fragment"
    }
   },
   "outputs": [
    {
     "data": {
      "text/plain": [
       "1.1596"
      ]
     },
     "execution_count": 5,
     "metadata": {},
     "output_type": "execute_result"
    }
   ],
   "source": [
    "Base.(:+)(p::Parameter, x::Number) = p.value + x\n",
    "α + 1."
   ]
  },
  {
   "cell_type": "markdown",
   "metadata": {
    "collapsed": true,
    "slideshow": {
     "slide_type": "fragment"
    }
   },
   "source": [
    "We should also be able to add parameters on the right: 1 + α"
   ]
  },
  {
   "cell_type": "code",
   "execution_count": 6,
   "metadata": {
    "collapsed": false,
    "slideshow": {
     "slide_type": "fragment"
    }
   },
   "outputs": [
    {
     "data": {
      "text/plain": [
       "1.1596"
      ]
     },
     "execution_count": 6,
     "metadata": {},
     "output_type": "execute_result"
    }
   ],
   "source": [
    "Base.(:+)(x::Number, p::Parameter) = p+x\n",
    "1. + α   # has meaning! "
   ]
  },
  {
   "cell_type": "markdown",
   "metadata": {
    "slideshow": {
     "slide_type": "fragment"
    }
   },
   "source": [
    "The ease with which we can do this is fairly unique to Julia, or at least languages with multiple dispatch."
   ]
  },
  {
   "cell_type": "markdown",
   "metadata": {
    "slideshow": {
     "slide_type": "subslide"
    }
   },
   "source": [
    "## Case study #1 (ctd)  \n",
    "\n",
    "Why is parameter arithmetic interesting? \n",
    "\n",
    "Because we can define equilibrium conditions using parameter algebra! "
   ]
  },
  {
   "cell_type": "code",
   "execution_count": null,
   "metadata": {
    "collapsed": true,
    "slideshow": {
     "slide_type": "fragment"
    }
   },
   "outputs": [],
   "source": [
    "y_t = Φ*(α*k_t + (1-α)*L_t)   # Log-linearized production function "
   ]
  },
  {
   "cell_type": "markdown",
   "metadata": {
    "slideshow": {
     "slide_type": "fragment"
    }
   },
   "source": [
    "This is a only *slight* simplification of how a user would implement their equilibrium conditions and measurement equation."
   ]
  },
  {
   "cell_type": "markdown",
   "metadata": {
    "slideshow": {
     "slide_type": "slide"
    }
   },
   "source": [
    "## Case study #2a: Dealing with computational settings\n",
    "\n",
    "- \"Computational settings\" = flags or numbers without economic intiution\n",
    "- There are *many* of these in a production DSGE model like ours:\n",
    "  - Can we read in precomputed modal parameters, or should we optimize?\n",
    "  - How many draws should take from the posterior distribution in Metropolis-Hastings?\n",
    "  - Where do we store input/output files?\n",
    "- Don't want to have to track them down somewhere in the source code to change their values\n",
    "- Want to deal with all settings uniformly"
   ]
  },
  {
   "cell_type": "code",
   "execution_count": 7,
   "metadata": {
    "collapsed": true,
    "slideshow": {
     "slide_type": "fragment"
    }
   },
   "outputs": [],
   "source": [
    "type Setting{T}\n",
    "    key::Symbol                  # name of setting\n",
    "    value::T                     # whatever the setting is\n",
    "    print::Bool                  # whether or not to add this setting to the print\n",
    "    code::AbstractString         # what gets printed to the print\n",
    "    description::AbstractString  # description of what the setting is for\n",
    "end"
   ]
  },
  {
   "cell_type": "markdown",
   "metadata": {
    "slideshow": {
     "slide_type": "fragment"
    }
   },
   "source": [
    "- Store a `Dict{Setting}` within the model object "
   ]
  },
  {
   "cell_type": "markdown",
   "metadata": {
    "slideshow": {
     "slide_type": "subslide"
    }
   },
   "source": [
    "## Case study #2b:  using `Settings` to prevent file collisions\n",
    "\n",
    "- **Problem:**\n",
    "  - We create a lot of output files (particularly in `forecast`)\n",
    "  - Don't want to overwrite files when using different `Setting`s"
   ]
  },
  {
   "cell_type": "markdown",
   "metadata": {
    "slideshow": {
     "slide_type": "fragment"
    }
   },
   "source": [
    "- **Solution:**\n",
    "  - `print` and `code` fields of `Setting` object are used to construct a file string "
   ]
  },
  {
   "cell_type": "code",
   "execution_count": 6,
   "metadata": {
    "collapsed": false,
    "slideshow": {
     "slide_type": "skip"
    }
   },
   "outputs": [
    {
     "data": {
      "text/plain": [
       "to_filestring (generic function with 1 method)"
      ]
     },
     "execution_count": 6,
     "metadata": {},
     "output_type": "execute_result"
    }
   ],
   "source": [
    "to_filestring(s::Setting) = \"$(s.code)=$(s.value)\""
   ]
  },
  {
   "cell_type": "markdown",
   "metadata": {
    "slideshow": {
     "slide_type": "subslide"
    }
   },
   "source": [
    "## Case study #2b (ctd):  using `Settings` to prevent file collisions"
   ]
  },
  {
   "cell_type": "code",
   "execution_count": 8,
   "metadata": {
    "collapsed": false,
    "slideshow": {
     "slide_type": "fragment"
    }
   },
   "outputs": [
    {
     "data": {
      "text/plain": [
       "Dict{Symbol,Setting{T}} with 0 entries"
      ]
     },
     "execution_count": 8,
     "metadata": {},
     "output_type": "execute_result"
    }
   ],
   "source": [
    "# Setup (within model constructor)\n",
    "settings = Dict{Symbol,Setting}()             "
   ]
  },
  {
   "cell_type": "code",
   "execution_count": 9,
   "metadata": {
    "collapsed": false,
    "slideshow": {
     "slide_type": "fragment"
    }
   },
   "outputs": [
    {
     "data": {
      "text/plain": [
       "Setting{ASCIIString}(:cond_vintage,\"151205\",true,\"cond\",\"conditional data vintage\")"
      ]
     },
     "execution_count": 9,
     "metadata": {},
     "output_type": "execute_result"
    }
   ],
   "source": [
    "# Construct settings\n",
    "settings[:vint] = Setting(:data_vintage, \"151127\", \n",
    "                          true, \"vint\", \"input data vintage\")\n",
    "settings[:cond] = Setting(:cond_vintage, \"151205\", \n",
    "                          true, \"cond\", \"conditional data vintage\")"
   ]
  },
  {
   "cell_type": "code",
   "execution_count": 10,
   "metadata": {
    "collapsed": false,
    "slideshow": {
     "slide_type": "fragment"
    }
   },
   "outputs": [
    {
     "data": {
      "text/plain": [
       "\"cond=151205_vint=151127\""
      ]
     },
     "execution_count": 10,
     "metadata": {},
     "output_type": "execute_result"
    }
   ],
   "source": [
    "# When constructing filenames\n",
    "filestrings = Vector{ASCIIString}()\n",
    "for (skey, sval) in settings\n",
    "    if sval.print\n",
    "        push!(filestrings, \"$(sval.code)=$(sval.value)\") \n",
    "    end\n",
    "end\n",
    "\n",
    "join(filestrings,'_')                           # join all filestrings together"
   ]
  },
  {
   "cell_type": "markdown",
   "metadata": {
    "slideshow": {
     "slide_type": "subslide"
    }
   },
   "source": [
    "## Case study #2b (ctd): using `Settings` to prevent file collisions\n",
    "\n",
    "- Approach to `Setting`s and filestrings is not unique to Julia\n",
    "- There are probably ways to do it better\n",
    "- But these are challenges economists face **all the time**"
   ]
  },
  {
   "cell_type": "markdown",
   "metadata": {
    "slideshow": {
     "slide_type": "slide"
    }
   },
   "source": [
    "## `StateSpaceRoutines.jl`\n",
    "\n",
    "The *transition equation* maps state yesterday ($s_{t-1}$) to state today ($s_t$):\n",
    "\n",
    "<center>$ s_{t}  = T(\\theta) s_{t-1} + R(\\theta) \\epsilon_{t} + C(\\theta) $ &emsp; &emsp; &emsp; (1)</center> \n",
    "\n",
    "The *measurement equation* maps states to observed data ($y_t$): \n",
    "\n",
    "<center>$ y_{t}  = Z(\\theta) s_{t} + D(\\theta)$ &emsp; &emsp; &emsp; &emsp; &emsp; &emsp; &emsp; (2) </center>\n",
    "\n",
    "- State space routines are not only used to estimate and forecast DSGE models \n",
    "- Don't want others to waste time implementing these routines again\n",
    "- `StateSpaceRoutines.jl` provides model-agnostic state-space routines (inputs and outputs are just matrices)\n",
    "  - `DSGE.jl` uses `StateSpaceRoutines.jl` as a dependency."
   ]
  },
  {
   "cell_type": "markdown",
   "metadata": {
    "slideshow": {
     "slide_type": "subslide"
    }
   },
   "source": [
    "## `StateSpaceRoutines.jl`: Available routines\n",
    "\n",
    "- Kalman filter (`kalman_filter`): computes log-likelihood and filtered states $s_{t|1:t}$ for $t \\in 1:T$"
   ]
  },
  {
   "cell_type": "markdown",
   "metadata": {
    "slideshow": {
     "slide_type": "fragment"
    }
   },
   "source": [
    "- Kalman smoothers: computes smoothed states $s_{t|1:T}$ for $t \\in 1:T$\n",
    "  + `hamilton_smoother`: James Hamilton, [_Time Series Analysis_](https://www.amazon.com/Time-Analysis-James-Douglas-Hamilton/dp/0691042896) (1994)\n",
    "  + `koopman_smoother`: S.J. Koopman, [\"Disturbance Smoother for State Space Models\"](https://www.jstor.org/stable/2336762) (_Biometrika_, 1993)"
   ]
  },
  {
   "cell_type": "markdown",
   "metadata": {
    "slideshow": {
     "slide_type": "fragment"
    }
   },
   "source": [
    "- Simulation smoothers:\n",
    "  + `carter_kohn_smoother`: C.K. Carter and R. Kohn, [\"On Gibbs Sampling for State Space Models\"](https://www.jstor.org/stable/2337125) (_Biometrika_, 1994)\n",
    "  + `durbin_koopman_smoother`: J. Durbin and S.J. Koopman, [\"A Simple and Efficient Simulation Smoother for State Space Time Series Analysis\"](https://www.jstor.org/stable/4140605) (_Biometrika_, 2002)\n"
   ]
  },
  {
   "cell_type": "markdown",
   "metadata": {
    "collapsed": true,
    "slideshow": {
     "slide_type": "slide"
    }
   },
   "source": [
    "## Ongoing and future work"
   ]
  },
  {
   "cell_type": "markdown",
   "metadata": {
    "slideshow": {
     "slide_type": "fragment"
    }
   },
   "source": [
    "### Ongoing\n",
    "- Plotting\n",
    "- VAR package"
   ]
  },
  {
   "cell_type": "markdown",
   "metadata": {
    "slideshow": {
     "slide_type": "fragment"
    }
   },
   "source": [
    "### Future directions\n",
    "- Nonlinear solution methods\n",
    "- New optimization methods\n",
    "  - E.g. `csminwel` => simulated annealing?\n",
    "- New estimation methods\n",
    "  - E.g. `metropolis_hastings` => Sequential Monte Carlo"
   ]
  },
  {
   "cell_type": "markdown",
   "metadata": {
    "slideshow": {
     "slide_type": "subslide"
    }
   },
   "source": [
    "## Example state-space model: Univariate autoregressive process\n",
    "\n",
    "The model:\n",
    "\n",
    "<center>$ y_{t+1} = ϕ_{1} y_t + ϕ_{2} y_{t−1} + ϕ_{3} y_{t−2} + ϕ_{4} y_{t−3} + σ w_{t+1}$ &emsp; &emsp;   $w_t \\sim N(0,1)$  &emsp; &emsp; &emsp; &emsp;</center>\n",
    "\n"
   ]
  },
  {
   "cell_type": "markdown",
   "metadata": {
    "slideshow": {
     "slide_type": "fragment"
    }
   },
   "source": [
    "State-space representation:\n",
    "\n",
    "Let $s_t$ = [$y_t$  $y_{t−1}$  $y_{t−2}$  $y_{t−3}$]′   \n",
    "\n",
    "[insert example here]"
   ]
  },
  {
   "cell_type": "markdown",
   "metadata": {
    "slideshow": {
     "slide_type": "slide"
    }
   },
   "source": [
    "**We are sure there are better ways to do just about anything in DSGE.jl and StateSpaceRoutines.jl - we welcome your pull requests and thoughts!**"
   ]
  },
  {
   "cell_type": "markdown",
   "metadata": {
    "slideshow": {
     "slide_type": "fragment"
    }
   },
   "source": [
    "## Thank you!  \n",
    "\n",
    "<br/ >\n",
    "https://github.com/FRBNY-DSGE/DSGE.jl/<br/>\n",
    "@emoszkowski  &emsp; erica.moszkowski@gmail.com <br/>\n",
    "@FRBNY-DSGE  &emsp; ny.dsge.ny@ny.frb.org "
   ]
  },
  {
   "cell_type": "code",
   "execution_count": null,
   "metadata": {
    "collapsed": true
   },
   "outputs": [],
   "source": []
  }
 ],
 "metadata": {
  "celltoolbar": "Slideshow",
  "kernelspec": {
   "display_name": "Julia 0.4.5",
   "language": "julia",
   "name": "julia-0.4"
  },
  "language_info": {
   "file_extension": ".jl",
   "mimetype": "application/julia",
   "name": "julia",
   "version": "0.4.5"
  }
 },
 "nbformat": 4,
 "nbformat_minor": 0
}
